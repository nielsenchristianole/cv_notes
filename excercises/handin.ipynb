{
 "cells": [
  {
   "cell_type": "code",
   "execution_count": 28,
   "metadata": {},
   "outputs": [],
   "source": [
    "import cv2\n",
    "import tqdm\n",
    "import numpy as np\n",
    "import matplotlib.pyplot as plt\n",
    "\n",
    "from cv_functions import (\n",
    "    Pi, InvPi, camera_matrix, shortest_distance_to_line, box3d, projectpoints, undistortImage,\n",
    "    normalize2d, hest, rotation_matrix, triangulate,pest, checkerboard_points, estimateHomographies,\n",
    "    estimate_b, estimateIntrinsics, estimateExtrinsics, estimateExtrinsics, calibratecamera, triangulate_nonlin,\n",
    "    gaussian1DKernel, gaussianSmoothing, structureTensor, harrisMeasure, cornerDetector,\n",
    "    DrawLine, test_points, fit_line, pca_line, distance_to_line, ransac_line, scaleSpaced,\n",
    "    differenceOfGaussians, detectBlobs, transformIm, Fest_8point, unpack_cv2_matches, SampsonsDistance,\n",
    "    ransac_F, homography_dist_approx, ransac_H, estHomographyRANSAC, warpImage,\n",
    "    unwrap, calculate_disparity)\n",
    "\n",
    "prettyprint = lambda arr, pres=2: print(np.array2string(arr, precision=pres, suppress_small=True))\n",
    "\n",
    "CrossOp = lambda v: np.array([[    0, -v[2],  v[1]],\n",
    "                              [ v[2],     0, -v[0]],\n",
    "                              [-v[1],  v[0],     0]])\n"
   ]
  },
  {
   "cell_type": "markdown",
   "metadata": {},
   "source": [
    "# Part 0"
   ]
  },
  {
   "cell_type": "markdown",
   "metadata": {},
   "source": [
    "## excercise 1"
   ]
  },
  {
   "cell_type": "code",
   "execution_count": 29,
   "metadata": {},
   "outputs": [
    {
     "data": {
      "text/plain": [
       "array([[557.52555675],\n",
       "       [383.75661509]])"
      ]
     },
     "execution_count": 29,
     "metadata": {},
     "output_type": "execute_result"
    }
   ],
   "source": [
    "K = camera_matrix(1400., (750, 520))\n",
    "\n",
    "R = cv2.Rodrigues(np.array([0.2, 0.2, -0.1]))[0]\n",
    "t = np.array([[-0.08, 0.01, 0.03]]).T\n",
    "\n",
    "q = np.array([[-0.38, 0.1, 1.32]]).T\n",
    "\n",
    "Pi(projectpoints(K, R, t, InvPi(q)))\n"
   ]
  },
  {
   "cell_type": "markdown",
   "metadata": {},
   "source": [
    "## excercise 2"
   ]
  },
  {
   "cell_type": "code",
   "execution_count": 30,
   "metadata": {},
   "outputs": [],
   "source": [
    "p1 = np.array([[ 1.45349587e+02, -1.12915131e-01, 1.91640565e+00, -6.08129962e-01],\n",
    "               [1.05603820e+02, 5.62792554e-02, 1.79040110e+00, -2.32182177e-01]])\n",
    "p2 = np.array([[ 1.3753556, -1.77072961, 2.94511795, 0.04032374],\n",
    "               [0.30936653, 0.37172814, 1.44007577, -0.03173825]])\n"
   ]
  },
  {
   "cell_type": "code",
   "execution_count": 31,
   "metadata": {},
   "outputs": [
    {
     "data": {
      "text/plain": [
       "array([[ 1.        ,  1.18450189,  2.73494707],\n",
       "       [ 1.28494954,  1.44207391,  1.03919164],\n",
       "       [ 3.92261028, -2.06451   , -4.72549386]])"
      ]
     },
     "execution_count": 31,
     "metadata": {},
     "output_type": "execute_result"
    }
   ],
   "source": [
    "H = hest(p1, p2)\n",
    "H / H[0, 0]\n"
   ]
  },
  {
   "cell_type": "markdown",
   "metadata": {},
   "source": [
    "## excercise 3"
   ]
  },
  {
   "cell_type": "code",
   "execution_count": 32,
   "metadata": {},
   "outputs": [
    {
     "data": {
      "text/plain": [
       "<function cv_functions.Fest_8point(q1, q2)>"
      ]
     },
     "execution_count": 32,
     "metadata": {},
     "output_type": "execute_result"
    }
   ],
   "source": [
    "Fest_8point"
   ]
  },
  {
   "cell_type": "markdown",
   "metadata": {},
   "source": [
    "## excercise 4"
   ]
  },
  {
   "cell_type": "code",
   "execution_count": 33,
   "metadata": {},
   "outputs": [
    {
     "data": {
      "text/plain": [
       "array([[742.81960823],\n",
       "       [593.49625679]])"
      ]
     },
     "execution_count": 33,
     "metadata": {},
     "output_type": "execute_result"
    }
   ],
   "source": [
    "K = np.array([[300, 0, 840], [0, 300, 620], [0, 0, 1]], float)\n",
    "k3 = -0.2\n",
    "k5 = 0.01\n",
    "k7 = -0.03\n",
    "\n",
    "p = np.array([[400, 500., 1]]).T\n",
    "radial_dist_factors = [k3, k5, k7]\n",
    "\n",
    "q = np.linalg.inv(K) @ p\n",
    "q_d = projectpoints(np.eye(3), Q=InvPi(q), radial_dist_factors=radial_dist_factors)\n",
    "Pi(K @ q_d)"
   ]
  },
  {
   "cell_type": "markdown",
   "metadata": {},
   "source": [
    "## excercise 5"
   ]
  },
  {
   "cell_type": "code",
   "execution_count": null,
   "metadata": {},
   "outputs": [],
   "source": [
    "harrisMeasure"
   ]
  },
  {
   "cell_type": "markdown",
   "metadata": {},
   "source": [
    "## excercise 6"
   ]
  },
  {
   "cell_type": "code",
   "execution_count": 34,
   "metadata": {},
   "outputs": [
    {
     "data": {
      "text/plain": [
       "(array([2]), array([3]))"
      ]
     },
     "execution_count": 34,
     "metadata": {},
     "output_type": "execute_result"
    }
   ],
   "source": [
    "data = np.load('Exam24/materials/harris.npy', allow_pickle=True).item()\n",
    "\n",
    "a = data.pop('g*(I_x^2)')\n",
    "b = data.pop('g*(I_y^2)')\n",
    "c = data.pop('g*(I_x I_y)')\n",
    "assert not data\n",
    "\n",
    "k = 0.06\n",
    "tau = 5.\n",
    "\n",
    "det = a * b - c ** 2\n",
    "tr = a + b\n",
    "r = det - k * tr ** 2\n",
    "\n",
    "c = (\n",
    "    (r[1:-1, 1:-1] > tau) &\n",
    "    (r[1:-1, 1:-1] > r[2:, 1:-1]) &\n",
    "    (r[1:-1, 1:-1] > r[:-2, 1:-1]) &\n",
    "    (r[1:-1, 1:-1] > r[1:-1, 2:]) &\n",
    "    (r[1:-1, 1:-1] > r[1:-1, :-2]) &\n",
    "    (r[1:-1, 1:-1] > r[2:, 2:]) &\n",
    "    (r[1:-1, 1:-1] > r[:-2, :-2]) &\n",
    "    (r[1:-1, 1:-1] > r[2:, :-2]) &\n",
    "    (r[1:-1, 1:-1] > r[:-2, 2:])\n",
    ")\n",
    "c = np.pad(c, ((1, 1), (1, 1)))\n",
    "np.where(c) "
   ]
  },
  {
   "cell_type": "code",
   "execution_count": 35,
   "metadata": {},
   "outputs": [
    {
     "data": {
      "text/plain": [
       "array([[10.9484, 11.0936, 10.8734, 10.6226, 10.1624],\n",
       "       [10.7104, 11.6746, 12.38  , 11.7166, 11.9926],\n",
       "       [10.4324, 11.4216, 12.2894, 12.7506, 12.7164],\n",
       "       [ 9.2844, 10.4834, 11.5136, 12.135 , 12.6104],\n",
       "       [ 7.9566,  8.9254, 10.0526, 10.9664, 11.9816]])"
      ]
     },
     "execution_count": 35,
     "metadata": {},
     "output_type": "execute_result"
    }
   ],
   "source": [
    "r"
   ]
  },
  {
   "cell_type": "markdown",
   "metadata": {},
   "source": [
    "## excercise 7"
   ]
  },
  {
   "cell_type": "code",
   "execution_count": null,
   "metadata": {},
   "outputs": [],
   "source": []
  },
  {
   "cell_type": "markdown",
   "metadata": {},
   "source": [
    "## excercise 8"
   ]
  },
  {
   "cell_type": "code",
   "execution_count": null,
   "metadata": {},
   "outputs": [],
   "source": []
  },
  {
   "cell_type": "markdown",
   "metadata": {},
   "source": [
    "## excercise 9"
   ]
  },
  {
   "cell_type": "code",
   "execution_count": 43,
   "metadata": {},
   "outputs": [],
   "source": [
    "sift_data = np.load(\"Exam24/materials/sift_data.npy\", allow_pickle=True).item()\n",
    "kp1 = sift_data[\"kp1\"]\n",
    "des1 = sift_data[\"des1\"]\n",
    "kp2 = sift_data[\"kp2\"]\n",
    "des2 = sift_data[\"des2\"]\n",
    "\n",
    "des1 /= np.linalg.norm(des1, 1, axis=1, keepdims=True)\n",
    "des2 /= np.linalg.norm(des2, 1, axis=1, keepdims=True)\n",
    "\n",
    "des1 = np.sqrt(des1)\n",
    "des2 = np.sqrt(des2)\n",
    "\n",
    "des1 /= np.linalg.norm(des1, 2, axis=1, keepdims=True)\n",
    "des2 /= np.linalg.norm(des2, 2, axis=1, keepdims=True)\n"
   ]
  },
  {
   "cell_type": "code",
   "execution_count": 44,
   "metadata": {},
   "outputs": [],
   "source": [
    "# bf = cv2.BFMatcher(crossCheck=True)\n",
    "# matches = bf.match(des1, des2)\n",
    "# len(matches)"
   ]
  },
  {
   "cell_type": "code",
   "execution_count": 45,
   "metadata": {},
   "outputs": [
    {
     "data": {
      "text/plain": [
       "213"
      ]
     },
     "execution_count": 45,
     "metadata": {},
     "output_type": "execute_result"
    }
   ],
   "source": [
    "def rat_test(ps, p):\n",
    "    dis = np.linalg.norm(ps - p[None,:], axis=1)\n",
    "    idxs = np.argsort(dis)\n",
    "    keep = dis[idxs[0]] / dis[idxs[1]] < 0.8\n",
    "    return idxs[0] if keep else -1\n",
    "\n",
    "matches12 = np.array([rat_test(des2, des1[i]) for i in range(2000)])\n",
    "matches21 = np.array([rat_test(des1, des2[i]) for i in range(2000)])\n",
    "# matches = [i for i in range(2000) if i == matches21[matches12[i]]]\n",
    "# len(matches)"
   ]
  },
  {
   "cell_type": "code",
   "execution_count": 54,
   "metadata": {},
   "outputs": [],
   "source": [
    "tmp1 = [(i, e) for i, e in enumerate(matches12) if e > -1]\n",
    "tmp2 = [(e, i) for i, e in enumerate(matches21) if e > -1]"
   ]
  },
  {
   "cell_type": "code",
   "execution_count": 57,
   "metadata": {},
   "outputs": [
    {
     "data": {
      "text/plain": [
       "213"
      ]
     },
     "execution_count": 57,
     "metadata": {},
     "output_type": "execute_result"
    }
   ],
   "source": [
    "len(set(tmp1) & set(tmp2))"
   ]
  },
  {
   "cell_type": "code",
   "execution_count": 46,
   "metadata": {},
   "outputs": [
    {
     "data": {
      "text/plain": [
       "(331, 371)"
      ]
     },
     "execution_count": 46,
     "metadata": {},
     "output_type": "execute_result"
    }
   ],
   "source": [
    "(matches12 > -1).sum(), (matches21 > -1).sum()"
   ]
  },
  {
   "cell_type": "markdown",
   "metadata": {},
   "source": [
    "# Part 10"
   ]
  },
  {
   "cell_type": "markdown",
   "metadata": {},
   "source": [
    "## excercise 10"
   ]
  },
  {
   "cell_type": "code",
   "execution_count": 13,
   "metadata": {},
   "outputs": [],
   "source": [
    "def checkerboard_points(n,m):\n",
    "    Q = np.zeros(shape=(3, n*m))\n",
    "    for i in range(n):\n",
    "        for j in range(m):\n",
    "            Q[:, i*m+j] = [i - (n-1)/2.0,\n",
    "                        j - (m-1)/2.0,\n",
    "                        0]\n",
    "    return Q\n",
    "\n",
    "def get_rgb(path):\n",
    "    bgr_img = cv2.imread(path)\n",
    "    b,g,r = cv2.split(bgr_img)       # get b,g,r\n",
    "    image = cv2.merge([r,g,b])\n",
    "    return image"
   ]
  },
  {
   "cell_type": "code",
   "execution_count": 14,
   "metadata": {},
   "outputs": [],
   "source": [
    "images = []\n",
    "for i in range(5):\n",
    "    image = get_rgb(f\"Exam24/materials/board{i}.jpg\")\n",
    "    # image = cv2.resize(image, (600, 400))\n",
    "    images.append(image)\n"
   ]
  },
  {
   "cell_type": "code",
   "execution_count": 15,
   "metadata": {},
   "outputs": [
    {
     "name": "stdout",
     "output_type": "stream",
     "text": [
      "763.4554355678482\n",
      "2066.458526542327\n",
      "1738.558526997851\n",
      "1655.370124404771\n",
      "367.8142037882513\n"
     ]
    }
   ],
   "source": [
    "imgpoints = []\n",
    "for img in images:\n",
    "    gray = cv2.cvtColor(img, cv2.COLOR_BGR2GRAY)\n",
    "    ret, corners = cv2.findChessboardCorners(gray, (7, 10))\n",
    "    if ret == True:\n",
    "        imgpoints.append(corners)\n",
    "        # Draw and display the corners\n",
    "        # painted = cv2.drawChessboardCorners(img.copy(), (7, 10), corners,ret)\n",
    "        # cv2.imshow('img',painted)\n",
    "        # cv2.waitKey(400)\n",
    "\n",
    "\n",
    "checkerboard = checkerboard_points(10,7)\n",
    "objpoints = [np.float32(checkerboard.T)]\n",
    "\n",
    "for i in range(5):\n",
    "    ret, K_cv2, distortion_coefficients, rvecs, tvecs = cv2.calibrateCamera(\n",
    "            objpoints, [imgpoints[i]], gray.shape[::-1], None, distCoeffs=np.array([0.,0,0,0]),\n",
    "            # nimages=5\n",
    "            # flags = cv2.CALIB_FIX_K1+cv2.CALIB_FIX_K2+cv2.CALIB_FIX_K3+cv2.CALIB_FIX_K4+\n",
    "            # cv2.CALIB_FIX_K5+cv2.CALIB_FIX_K6+cv2.CALIB_ZERO_TANGENT_DIST\n",
    "        )\n",
    "    print(K_cv2[0,0])\n"
   ]
  },
  {
   "cell_type": "code",
   "execution_count": null,
   "metadata": {},
   "outputs": [],
   "source": []
  },
  {
   "cell_type": "markdown",
   "metadata": {},
   "source": [
    "## excercise 11"
   ]
  },
  {
   "cell_type": "code",
   "execution_count": 16,
   "metadata": {},
   "outputs": [
    {
     "data": {
      "text/plain": [
       "<function cv_functions.calibratecamera(qs: list[numpy.ndarray], Q: numpy.ndarray, *, verbose: bool = False) -> tuple[numpy.ndarray, list[numpy.ndarray], list[numpy.ndarray]]>"
      ]
     },
     "execution_count": 16,
     "metadata": {},
     "output_type": "execute_result"
    }
   ],
   "source": [
    "calibratecamera"
   ]
  },
  {
   "cell_type": "markdown",
   "metadata": {},
   "source": [
    "## excercise 12"
   ]
  },
  {
   "cell_type": "code",
   "execution_count": 58,
   "metadata": {},
   "outputs": [
    {
     "name": "stdout",
     "output_type": "stream",
     "text": [
      "[[   1.        0.0074 -383.5467]\n",
      " [   0.068     0.9721  -40.8378]\n",
      " [   0.0002    0.        0.8854]]\n",
      "[[  1.      -0.0077 432.8447]\n",
      " [ -0.0773   1.0976  17.128 ]\n",
      " [ -0.0002   0.       1.1289]]\n"
     ]
    }
   ],
   "source": [
    "sift = cv2.SIFT_create()\n",
    "bf = cv2.BFMatcher(crossCheck=True)\n",
    "\n",
    "img1 = cv2.imread('Exam24/materials/im1.jpg')\n",
    "img1 = cv2.cvtColor(img1, cv2.COLOR_BGR2GRAY)\n",
    "img2 = cv2.imread('Exam24/materials/im2.jpg')\n",
    "img2 = cv2.cvtColor(img2, cv2.COLOR_BGR2GRAY)\n",
    "\n",
    "kp1, des1 = sift.detectAndCompute(img1, None)\n",
    "kp2, des2 = sift.detectAndCompute(img2, None)\n",
    "\n",
    "matches = bf.match(des1, des2)\n",
    "\n",
    "H, inliners = ransac_H(\n",
    "    *unpack_cv2_matches(kp1, kp2, matches),\n",
    "    t_sq=3.84*3**2,\n",
    "    max_iters=1600,\n",
    "    return_match_filter=True\n",
    ")\n",
    "prettyprint(H / H[0, 0], 4)\n",
    "\n",
    "H_inv = np.linalg.inv(H)\n",
    "prettyprint(H_inv / H_inv[0, 0], 4)"
   ]
  },
  {
   "cell_type": "markdown",
   "metadata": {},
   "source": [
    "## excercise 13"
   ]
  },
  {
   "cell_type": "code",
   "execution_count": 18,
   "metadata": {},
   "outputs": [
    {
     "data": {
      "text/plain": [
       "<function cv_functions.Fest_8point(q1, q2)>"
      ]
     },
     "execution_count": 18,
     "metadata": {},
     "output_type": "execute_result"
    }
   ],
   "source": [
    "Fest_8point"
   ]
  },
  {
   "cell_type": "markdown",
   "metadata": {},
   "source": [
    "## excercise 14"
   ]
  },
  {
   "cell_type": "code",
   "execution_count": null,
   "metadata": {},
   "outputs": [],
   "source": []
  },
  {
   "cell_type": "markdown",
   "metadata": {},
   "source": [
    "## excercise 15"
   ]
  },
  {
   "cell_type": "code",
   "execution_count": 19,
   "metadata": {},
   "outputs": [],
   "source": [
    "K = np.array([[300, 0, 840], [0, 300, 620.0], [0, 0, 1]], float)\n",
    "R1 = cv2.Rodrigues(np.array([-2.3, -0.7, 1.0]))[0]\n",
    "t1 = np.array([[0.0, -1.0, 4.0]], float).T\n",
    "R2 = cv2.Rodrigues(np.array([-0.6, 0.5, -0.9]))[0]\n",
    "t2 = np.array([[0.0, 0.0, 9.0]], float).T\n",
    "R3 = cv2.Rodrigues(np.array([-0.1, 0.9, -1.2]))[0]\n",
    "t3 = np.array([[-1.0, -6.0, 28.0]], float).T\n",
    "\n",
    "p1 = np.array([[853.0, 656.0]]).T\n",
    "p2 = np.array([[814.0, 655.0]]).T\n",
    "p3 = np.array([[798.0, 535.0]]).T\n"
   ]
  },
  {
   "cell_type": "code",
   "execution_count": 20,
   "metadata": {},
   "outputs": [
    {
     "data": {
      "text/plain": [
       "array([[160.73201324]])"
      ]
     },
     "execution_count": 20,
     "metadata": {},
     "output_type": "execute_result"
    }
   ],
   "source": [
    "T1 = np.concatenate((\n",
    "    np.concatenate((R1, t1), axis=1),\n",
    "    np.array([[0,0,0,1]])\n",
    "))\n",
    "\n",
    "T2 = np.concatenate((\n",
    "    np.concatenate((R2, t2), axis=1),\n",
    "    np.array([[0,0,0,1]])\n",
    "))\n",
    "\n",
    "T = T1 @ np.linalg.inv(T2)\n",
    "R = T[:3, :3]\n",
    "t = T[:3,3][:, None]\n",
    "\n",
    "E = CrossOp(t[:,0]) @ R\n",
    "F = np.linalg.inv(K).T @ E @ np.linalg.inv(K)\n",
    "l = F @ InvPi(p2)\n",
    "shortest_distance_to_line(InvPi(p1), l)\n"
   ]
  },
  {
   "cell_type": "markdown",
   "metadata": {},
   "source": [
    "## excercise 16"
   ]
  },
  {
   "cell_type": "code",
   "execution_count": 21,
   "metadata": {},
   "outputs": [
    {
     "data": {
      "text/plain": [
       "array([[ 0.25475577],\n",
       "       [-1.53923692],\n",
       "       [-0.14899204]])"
      ]
     },
     "execution_count": 21,
     "metadata": {},
     "output_type": "execute_result"
    }
   ],
   "source": [
    "triangulate_nonlin(\n",
    "    (p1, p2, p3),\n",
    "    (\n",
    "        projectpoints(K, R1, t1),\n",
    "        projectpoints(K, R2, t2),\n",
    "        projectpoints(K, R3, t3)\n",
    "    )\n",
    ")"
   ]
  },
  {
   "cell_type": "markdown",
   "metadata": {},
   "source": [
    "## excercise 17"
   ]
  },
  {
   "cell_type": "code",
   "execution_count": 22,
   "metadata": {},
   "outputs": [
    {
     "name": "stdout",
     "output_type": "stream",
     "text": [
      "[[ 1.8]\n",
      " [ 1.9]\n",
      " [-0.4]]\n"
     ]
    }
   ],
   "source": [
    "R = cv2.Rodrigues(np.array([-1.9, 0.1, -0.2]))[0]\n",
    "t = np.array([[-1.7, 1.3, 1.5]], float).T\n",
    "\n",
    "cam1_pos = -R.T @ t\n",
    "prettyprint(cam1_pos, 1)"
   ]
  },
  {
   "cell_type": "markdown",
   "metadata": {},
   "source": [
    "## excercise 18"
   ]
  },
  {
   "cell_type": "code",
   "execution_count": 23,
   "metadata": {},
   "outputs": [],
   "source": [
    "K = np.array([[300, 0, 840], [0, 300, 620.0], [0, 0, 1]], float)\n",
    "R1 = cv2.Rodrigues(np.array([-2.3, -0.7, 1.0]))[0]\n",
    "t1 = np.array([[0.0, -1.0, 4.0]], float).T\n",
    "R2 = cv2.Rodrigues(np.array([-0.6, 0.5, -0.9]))[0]\n",
    "t2 = np.array([[0.0, 0.0, 9.0]], float).T\n",
    "R3 = cv2.Rodrigues(np.array([-0.1, 0.9, -1.2]))[0]\n",
    "t3 = np.array([[-1.0, -6.0, 28.0]], float).T\n",
    "\n",
    "p1 = np.array([[853.0, 656.0]]).T\n",
    "p2 = np.array([[814.0, 655.0]]).T\n",
    "p3 = np.array([[798.0, 535.0]]).T\n",
    "\n",
    "Q = np.array([[-0.38], [0.1], [1.32]])\n"
   ]
  },
  {
   "cell_type": "code",
   "execution_count": 24,
   "metadata": {},
   "outputs": [
    {
     "data": {
      "text/plain": [
       "array([[  2.1880602 ],\n",
       "       [ -5.26185229],\n",
       "       [-17.77577456]])"
      ]
     },
     "execution_count": 24,
     "metadata": {},
     "output_type": "execute_result"
    }
   ],
   "source": [
    "T2 = np.concatenate((\n",
    "    np.concatenate((R2, t2), axis=1),\n",
    "    np.array([[0,0,0,1]])\n",
    "))\n",
    "\n",
    "T3 = np.concatenate((\n",
    "    np.concatenate((R3, t3), axis=1),\n",
    "    np.array([[0,0,0,1]])\n",
    "))\n",
    "\n",
    "Pi(T2 @ np.linalg.inv(T3) @ InvPi(Q))"
   ]
  },
  {
   "cell_type": "markdown",
   "metadata": {},
   "source": [
    "## excercise 19"
   ]
  },
  {
   "cell_type": "code",
   "execution_count": 25,
   "metadata": {},
   "outputs": [
    {
     "data": {
      "text/plain": [
       "93.36093153241097"
      ]
     },
     "execution_count": 25,
     "metadata": {},
     "output_type": "execute_result"
    }
   ],
   "source": [
    "n = 4\n",
    "eps_hat = 1 - 465 / 1177\n",
    "p = 0.9\n",
    "np.log(1-p) / np.log(1 - (1 - eps_hat) ** n)"
   ]
  },
  {
   "cell_type": "markdown",
   "metadata": {},
   "source": [
    "# Part 20"
   ]
  },
  {
   "cell_type": "markdown",
   "metadata": {},
   "source": [
    "## excercise 20"
   ]
  },
  {
   "cell_type": "code",
   "execution_count": 26,
   "metadata": {},
   "outputs": [
    {
     "data": {
      "text/plain": [
       "7.526399999999999"
      ]
     },
     "execution_count": 26,
     "metadata": {},
     "output_type": "execute_result"
    }
   ],
   "source": [
    "sigma=1.4\n",
    "3.84*sigma**2"
   ]
  },
  {
   "cell_type": "markdown",
   "metadata": {},
   "source": [
    "## excercise 21"
   ]
  },
  {
   "cell_type": "code",
   "execution_count": 27,
   "metadata": {},
   "outputs": [
    {
     "data": {
      "text/plain": [
       "4.934396234333328"
      ]
     },
     "execution_count": 27,
     "metadata": {},
     "output_type": "execute_result"
    }
   ],
   "source": [
    "primary = np.array([12., 9, 10, 13, 18, 25, 33, 40, 46, 49, 48, 45, 39, 31, 23, 17])\n",
    "secondary = np.array([15., 29, 43, 49, 43, 29, 15, 10])\n",
    "n_1 = 40\n",
    "\n",
    "fft_primary = np.fft.rfft(primary, axis=0)\n",
    "theta_primary = np.angle(fft_primary[1])\n",
    "\n",
    "fft_secondary = np.fft.rfft(secondary, axis=0)\n",
    "theta_secondary = np.angle(fft_secondary[1])\n",
    "\n",
    "# heterodyne principle\n",
    "theta_c = theta_primary - theta_secondary\n",
    "theta_c %= 2*np.pi\n",
    "\n",
    "o_primary = np.round((n_1 * theta_c - theta_primary) / (2 * np.pi))\n",
    "theta_est = (2 * np.pi * o_primary + theta_primary) / n_1\n",
    "theta_est"
   ]
  },
  {
   "cell_type": "markdown",
   "metadata": {},
   "source": [
    "## excercise 22"
   ]
  },
  {
   "cell_type": "code",
   "execution_count": null,
   "metadata": {},
   "outputs": [],
   "source": []
  }
 ],
 "metadata": {
  "kernelspec": {
   "display_name": "cv",
   "language": "python",
   "name": "python3"
  },
  "language_info": {
   "codemirror_mode": {
    "name": "ipython",
    "version": 3
   },
   "file_extension": ".py",
   "mimetype": "text/x-python",
   "name": "python",
   "nbconvert_exporter": "python",
   "pygments_lexer": "ipython3",
   "version": "3.11.5"
  }
 },
 "nbformat": 4,
 "nbformat_minor": 2
}
