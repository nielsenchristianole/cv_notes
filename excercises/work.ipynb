{
 "cells": [
  {
   "cell_type": "code",
   "execution_count": 1,
   "metadata": {},
   "outputs": [],
   "source": [
    "import itertools as it\n",
    "\n",
    "import cv2\n",
    "import numpy as np\n",
    "import matplotlib.pyplot as plt\n",
    "import matplotlib.animation as animation\n"
   ]
  },
  {
   "cell_type": "code",
   "execution_count": 2,
   "metadata": {},
   "outputs": [],
   "source": [
    "\n",
    "def box3d(n: int=16) -> np.ndarray:\n",
    "\n",
    "    points = []\n",
    "    N = tuple(np.linspace(-1, 1, n))\n",
    "    \n",
    "    for i, j in [(-1, -1), (-1, 1), (1, 1), (0, 0)]:\n",
    "        points.extend(set(it.permutations([(i, ) * n, (j, ) * n, N])))\n",
    "    \n",
    "    return np.hstack(points) / 2\n",
    "\n",
    "\n",
    "def Pi(x: np.ndarray) -> np.ndarray:\n",
    "    return np.vstack(x, np.ones(x.shape[1]))\n",
    "\n",
    "\n",
    "def InvPi(x: np.ndarray) -> np.ndarray:\n",
    "    return x[:-1] / x[-1]\n",
    "\n",
    "\n",
    "def projectpoints(K: np.ndarray, R: np.ndarray, t: np.ndarray, Q: np.ndarray) -> np.ndarray:\n",
    "    return K @ (R @ Q + t[:, None])\n",
    "\n",
    "\n",
    "def point2line_distance2d(l: np.array, p: np.array) -> float:\n",
    "    \"\"\"Homogeneous 2D point to line distance\"\"\"\n",
    "    return abs(l @ p) / (abs(p[2]) * np.linalg.norm(l[:2]))"
   ]
  },
  {
   "cell_type": "code",
   "execution_count": 3,
   "metadata": {},
   "outputs": [],
   "source": [
    "K = np.eye(3)\n",
    "R = lambda theta: np.array([[np.cos(theta), 0, np.sin(theta)],\n",
    "                            [0, 1, 0], \n",
    "                            [-np.sin(theta), 0, np.cos(theta)]])\n",
    "t = np.zeros(3)\n",
    "t[2] = 4\n",
    "Q = box3d()\n",
    "\n"
   ]
  },
  {
   "cell_type": "code",
   "execution_count": 14,
   "metadata": {},
   "outputs": [
    {
     "data": {
      "text/plain": [
       "2.3851391759997758"
      ]
     },
     "execution_count": 14,
     "metadata": {},
     "output_type": "execute_result"
    }
   ],
   "source": [
    "l = np.array([1 / np.sqrt(2), 1 / np.sqrt(2), -1])\n",
    "p1 = np.array([0, 0, 1])\n",
    "p2 = np.array([np.sqrt(2), np.sqrt(2), 1])\n",
    "p3 = np.array([np.sqrt(2), np.sqrt(2), 4])\n",
    "\n",
    "\n",
    "\n",
    "dis(np.array([1,2,2]), np.array([2,4,3]))"
   ]
  },
  {
   "cell_type": "code",
   "execution_count": 15,
   "metadata": {},
   "outputs": [
    {
     "data": {
      "text/plain": [
       "array([[ 0.97512475,  0.19303094,  0.1089531 ],\n",
       "       [-0.20298104,  0.97512475,  0.0890529 ],\n",
       "       [-0.0890529 , -0.1089531 ,  0.9900499 ]])"
      ]
     },
     "execution_count": 15,
     "metadata": {},
     "output_type": "execute_result"
    }
   ],
   "source": [
    "cv2.Rodrigues(np.array([-0.1, 0.1, -0.2]))[0]"
   ]
  }
 ],
 "metadata": {
  "kernelspec": {
   "display_name": "cv",
   "language": "python",
   "name": "python3"
  },
  "language_info": {
   "codemirror_mode": {
    "name": "ipython",
    "version": 3
   },
   "file_extension": ".py",
   "mimetype": "text/x-python",
   "name": "python",
   "nbconvert_exporter": "python",
   "pygments_lexer": "ipython3",
   "version": "3.11.5"
  }
 },
 "nbformat": 4,
 "nbformat_minor": 2
}
