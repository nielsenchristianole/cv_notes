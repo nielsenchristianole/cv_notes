{
 "cells": [
  {
   "cell_type": "markdown",
   "metadata": {},
   "source": [
    "# week 1"
   ]
  },
  {
   "cell_type": "code",
   "execution_count": 23,
   "metadata": {},
   "outputs": [],
   "source": [
    "import cv2\n",
    "import numpy as np\n",
    "import matplotlib.pyplot as plt\n"
   ]
  },
  {
   "cell_type": "markdown",
   "metadata": {},
   "source": [
    "## Homogeneous coordinates"
   ]
  },
  {
   "cell_type": "code",
   "execution_count": 24,
   "metadata": {},
   "outputs": [],
   "source": [
    "def Pi(arr: np.ndarray) -> np.ndarray:\n",
    "    \"\"\"\n",
    "    Also called Pi(x)\n",
    "\n",
    "    Converts from homogeneous to inhomogeneous coordinates\n",
    "    \"\"\"\n",
    "    return arr[:-1] / arr[-1]\n",
    "\n",
    "\n",
    "def InvPi(arr: np.ndarray) -> np.ndarray:\n",
    "    \"\"\"\n",
    "    Converts from inhomogeneous to homogeneous coordinates\n",
    "    \"\"\"\n",
    "    return np.vstack(arr, np.ones(arr.shape[1]))\n",
    "\n",
    "\n",
    "def camera_matrix(focal_length: float, principal_point: np.ndarray) -> np.ndarray:\n",
    "    \"\"\"\n",
    "    Focal length is the distance between the camera's center and the image plane\n",
    "    Principal point is the point where the optical axis intersects the image plane\n",
    "        \n",
    "\n",
    "    Returns the camera matrix\n",
    "    \"\"\"\n",
    "    return np.array([[focal_length, 0, principal_point[0]],\n",
    "                     [0, focal_length, principal_point[1]],\n",
    "                     [0, 0, 1]])\n",
    "\n",
    "\n",
    "def shortest_distance_to_line(ps: np.ndarray, l: np.ndarray) -> float:\n",
    "    \"\"\"\n",
    "    Returns the shortest distance besteen each point in ps to a line l.\n",
    "    \"\"\"\n",
    "    return abs(l.T @ ps) / (abs(ps[-1]) * np.linalg.norm(l[:-1]))"
   ]
  },
  {
   "cell_type": "code",
   "execution_count": 25,
   "metadata": {},
   "outputs": [
    {
     "name": "stdout",
     "output_type": "stream",
     "text": [
      "Distance to line:  [[1.  1.  0.5]]\n",
      "Distance to line:  [[0.35355339 1.64644661 0.14644661]]\n"
     ]
    }
   ],
   "source": [
    "l1 = np.array([[np.sqrt(2)/2, np.sqrt(2)/2, -1]]).T\n",
    "l2 = np.array([[2, 2, -1]]).T\n",
    "p1 = np.array([[0, 0, 1]]).T\n",
    "p2 = np.array([[np.sqrt(2), np.sqrt(2), 1]]).T\n",
    "p3 = np.array([[np.sqrt(2), np.sqrt(2), 4]]).T\n",
    "\n",
    "ps = np.concatenate((p1, p2, p3), axis=1)\n",
    "for l in [l1, l2]:\n",
    "    print(\"Distance to line: \", shortest_distance_to_line(ps, l))\n"
   ]
  },
  {
   "cell_type": "code",
   "execution_count": 26,
   "metadata": {},
   "outputs": [
    {
     "name": "stdout",
     "output_type": "stream",
     "text": [
      "Homogeneous to inhomogeneous 2d\n",
      "Point: [[1]\n",
      " [2]\n",
      " [1]]\n",
      "Inhomogeneous: [[1.]\n",
      " [2.]]\n",
      "Point: [[4]\n",
      " [2]\n",
      " [2]]\n",
      "Inhomogeneous: [[2.]\n",
      " [1.]]\n",
      "Point: [[ 6]\n",
      " [ 4]\n",
      " [-1]]\n",
      "Inhomogeneous: [[-6.]\n",
      " [-4.]]\n",
      "Point: [[5. ]\n",
      " [3. ]\n",
      " [0.5]]\n",
      "Inhomogeneous: [[10.]\n",
      " [ 6.]]\n",
      "\n",
      "Homogeneous to inhomogeneous 3d\n",
      "Point: [[ 1]\n",
      " [10]\n",
      " [-3]\n",
      " [ 1]]\n",
      "Inhomogeneous: [[ 1.]\n",
      " [10.]\n",
      " [-3.]]\n",
      "Point: [[ 2. ]\n",
      " [-4. ]\n",
      " [ 1.1]\n",
      " [ 2. ]]\n",
      "Inhomogeneous: [[ 1.  ]\n",
      " [-2.  ]\n",
      " [ 0.55]]\n",
      "Point: [[ 0]\n",
      " [ 0]\n",
      " [-1]\n",
      " [10]]\n",
      "Inhomogeneous: [[ 0. ]\n",
      " [ 0. ]\n",
      " [-0.1]]\n",
      "Point: [[-15]\n",
      " [  3]\n",
      " [  6]\n",
      " [  3]]\n",
      "Inhomogeneous: [[-5.]\n",
      " [ 1.]\n",
      " [ 2.]]\n"
     ]
    }
   ],
   "source": [
    "# 2d coordinates\n",
    "p1 = np.array([[1, 2, 1]]).T\n",
    "p2 = np.array([[4, 2, 2]]).T\n",
    "p3 = np.array([[6, 4, -1]]).T\n",
    "p4 = np.array([[5, 3, 0.5]]).T\n",
    "\n",
    "print(\"Homogeneous to inhomogeneous 2d\")\n",
    "for _p in [p1, p2, p3, p4]:\n",
    "    print(f\"Point: {_p}\")\n",
    "    print(f\"Inhomogeneous: {Pi(_p)}\")\n",
    "\n",
    "# 3d coordinates\n",
    "P1 = np.array([[1, 10, -3, 1]]).T\n",
    "P2 = np.array([[2, -4, 1.1, 2]]).T\n",
    "P3 = np.array([[0, 0, -1, 10]]).T\n",
    "P4 = np.array([[-15, 3, 6, 3]]).T\n",
    "print(\"\\nHomogeneous to inhomogeneous 3d\")\n",
    "\n",
    "for _p in [P1, P2, P3, P4]:\n",
    "    print(f\"Point: {_p}\")\n",
    "    print(f\"Inhomogeneous: {Pi(_p)}\")"
   ]
  },
  {
   "cell_type": "code",
   "execution_count": 27,
   "metadata": {},
   "outputs": [],
   "source": [
    "\n",
    "def box3d(n: int=16) -> np.ndarray:\n",
    "    import itertools as it\n",
    "\n",
    "    points = []\n",
    "    N = tuple(np.linspace(-1, 1, n))\n",
    "    \n",
    "    for i, j in [(-1, -1), (-1, 1), (1, 1), (0, 0)]:\n",
    "        points.extend(set(it.permutations([(i, ) * n, (j, ) * n, N])))\n",
    "    \n",
    "    return np.hstack(points) / 2\n",
    "\n",
    "def projectpoints(K: np.ndarray, R: np.ndarray, t: np.ndarray, Q: np.ndarray) -> np.ndarray:\n",
    "    \"\"\"\n",
    "    K: Camera matrix\n",
    "    R: Rotation matrix\n",
    "    t: Translation vector\n",
    "    Q: 3D points\n",
    "    \"\"\"\n",
    "    return K @ (R @ Q + t[:, None])\n",
    "\n"
   ]
  },
  {
   "cell_type": "code",
   "execution_count": 43,
   "metadata": {},
   "outputs": [
    {
     "data": {
      "image/png": "[encoded data removed]",
      "text/plain": [
       "<Figure size 640x480 with 1 Axes>"
      ]
     },
     "metadata": {},
     "output_type": "display_data"
    }
   ],
   "source": [
    "K = np.eye(3)\n",
    "R = lambda theta: np.array([[np.cos(theta), 0, np.sin(theta)],\n",
    "                            [0, 1, 0], \n",
    "                            [-np.sin(theta), 0, np.cos(theta)]])\n",
    "t = np.zeros(3)\n",
    "t[2] = 4\n",
    "Q = box3d()\n",
    "\n",
    "plt.scatter(*Pi(projectpoints(K, R(0), t, Q)))\n",
    "plt.show()\n"
   ]
  }
 ],
 "metadata": {
  "kernelspec": {
   "display_name": "cv",
   "language": "python",
   "name": "python3"
  },
  "language_info": {
   "codemirror_mode": {
    "name": "ipython",
    "version": 3
   },
   "file_extension": ".py",
   "mimetype": "text/x-python",
   "name": "python",
   "nbconvert_exporter": "python",
   "pygments_lexer": "ipython3",
   "version": "3.11.5"
  }
 },
 "nbformat": 4,
 "nbformat_minor": 2
}
